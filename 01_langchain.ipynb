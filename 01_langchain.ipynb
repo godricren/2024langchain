{
 "cells": [
  {
   "metadata": {
    "ExecuteTime": {
     "end_time": "2024-09-14T12:41:37.246267Z",
     "start_time": "2024-09-14T12:41:31.909636Z"
    }
   },
   "cell_type": "code",
   "source": [
    "import yaml\n",
    "import os\n",
    "from langchain_community.chat_models import ChatZhipuAI\n",
    "from langchain_core.messages import AIMessage, HumanMessage, SystemMessage\n",
    "\n",
    "with open('utils/config.yml', 'r') as stream:\n",
    "    zhipuai_api_key = yaml.safe_load(stream)['api_key']\n",
    "\n",
    "os.environ['ZHIPUAI_API_KEY'] = zhipuai_api_key\n",
    "\n",
    "chat_model = ChatZhipuAI(\n",
    "    model='glm-4-plus',\n",
    "    temperature=0,\n",
    ")\n",
    "\n",
    "messages = [\n",
    "    AIMessage(content='你好我是你的小康助手'),\n",
    "    SystemMessage(content='当用户输入城市，你会返回该城市的平均工资'),\n",
    "    HumanMessage(content='大连'),\n",
    "]\n",
    "\n",
    "response = chat_model.invoke(messages)\n",
    "print(response)"
   ],
   "id": "771d17bbce673aa3",
   "outputs": [
    {
     "name": "stdout",
     "output_type": "stream",
     "text": [
      "content='截至我知识更新的时间点（2023年），我无法提供实时数据。不过，我可以给你一个大致的概念。\\n\\n大连作为中国东北的一个重要城市，其平均工资水平会受到多种因素的影响，包括行业分布、经济发展水平等。根据过去几年的数据，大连的平均工资通常在中国各大城市中处于中等水平。\\n\\n例如，根据一些公开的统计数据，2022年大连的平均工资可能在每月6000元到8000元人民币之间。但请注意，这个数字只是一个粗略的估计，实际工资水平会因行业、职位、工作经验等因素而有很大差异。\\n\\n如果你需要最新的平均工资数据，建议查阅当地统计局发布的最新报告，或者参考招聘网站上的薪资调查数据。' response_metadata={'token_usage': {'completion_tokens': 142, 'prompt_tokens': 26, 'total_tokens': 168}, 'model_name': 'glm-4-plus', 'finish_reason': 'stop'} id='run-62d76e2e-3e52-4f23-9618-d5953c1b5348-0'\n"
     ]
    }
   ],
   "execution_count": 5
  },
  {
   "metadata": {
    "ExecuteTime": {
     "end_time": "2024-09-14T12:37:12.444240Z",
     "start_time": "2024-09-14T12:36:56.656149Z"
    }
   },
   "cell_type": "code",
   "source": [
    "import os, yaml\n",
    "from langchain_core.output_parsers import StrOutputParser\n",
    "from langchain_core.prompts import ChatPromptTemplate\n",
    "from langchain_community.chat_models import ChatZhipuAI\n",
    "\n",
    "with open('utils/config.yml', 'r') as stream:\n",
    "    zhipuai_api_key = yaml.safe_load(stream)['api_key']\n",
    "\n",
    "os.environ['ZHIPUAI_API_KEY'] = zhipuai_api_key\n",
    "\n",
    "chat_model = ChatZhipuAI(\n",
    "    model='glm-4-plus',\n",
    "    temperature=0,\n",
    ")\n",
    "\n",
    "prompt = ChatPromptTemplate.from_template('根据下面的主题写一篇小红书营销短文: {topic}')\n",
    "output_parser = StrOutputParser()\n",
    "# 就是一个复合函数output_parse.invoke(chat_model.invoke(prompt.invoke()))\n",
    "# 从数据结构上讲，更类似于栈 stack\n",
    "chain = prompt | chat_model | output_parser\n",
    "\n",
    "chain.invoke({'topic':'康宝莱营养奶昔'})\n"
   ],
   "id": "ae97676ade35ac5c",
   "outputs": [
    {
     "data": {
      "text/plain": [
       "'🌟【轻盈生活，从一杯康宝莱营养奶昔开始！】🌟\\n\\n🍃Hey宝贝们！🍃 想要告别“每逢佳节胖三斤”的烦恼吗？想要在忙碌的生活中也能轻松补充营养吗？今天给大家安利一款我最近超爱的健康神器——康宝莱营养奶昔！\\n\\n🥤【一杯搞定，营养满分】🥤\\n康宝莱营养奶昔可不是普通的奶昔哦！它富含优质蛋白、多种维生素和矿物质，低热量、低脂肪，一杯下去，瞬间感觉身体被满满能量包围！无论是早餐、午餐还是晚餐，一杯搞定，营养均衡又方便！\\n\\n🌈【多种口味，随心选择】🌈\\n草莓、巧克力、香草……康宝莱的口味选择多到让人眼花缭乱！每一种都超级美味，完全不用担心喝腻啦！每天换一种口味，心情都变得美美哒~\\n\\n🏃\\u200d♀️【轻松瘦身，健康享瘦】🏃\\u200d♀️\\n想要拥有迷人身材，但又不想节食挨饿？康宝莱营养奶昔是你的不二选择！它不仅能提供足够的营养，还能帮助你控制热量摄入，轻松实现健康瘦身目标！\\n\\n👩\\u200d🍳【DIY创意，乐趣无穷】👩\\u200d🍳\\n喜欢动手的小伙伴们，康宝莱奶昔还可以DIY哦！加入你喜欢的水果、坚果，甚至是一些超级食物，打造属于你自己的专属奶昔，乐趣无穷！\\n\\n💖【真实反馈，好评如潮】💖\\n我自己喝了康宝莱奶昔一段时间后，不仅体重有所下降，皮肤状态也变得更好了！身边的小伙伴们也都纷纷种草，好评如潮！\\n\\n🎁【限时优惠，不容错过】🎁\\n现在下单购买康宝莱营养奶昔，还有超值优惠等你哦！心动不如行动，快来和我一起开启健康轻盈的生活吧！\\n\\n#康宝莱营养奶昔 #健康瘦身 #营养早餐 #美味奶昔 #轻盈生活 #小红书好物推荐'"
      ]
     },
     "execution_count": 4,
     "metadata": {},
     "output_type": "execute_result"
    }
   ],
   "execution_count": 4
  },
  {
   "metadata": {
    "ExecuteTime": {
     "end_time": "2024-09-14T12:44:54.861591Z",
     "start_time": "2024-09-14T12:44:54.855723Z"
    }
   },
   "cell_type": "code",
   "source": "prompt.invoke({'topic':'康宝莱营养奶昔'})",
   "id": "df8125024db9a66c",
   "outputs": [
    {
     "data": {
      "text/plain": [
       "ChatPromptValue(messages=[HumanMessage(content='根据下面的主题写一篇小红书营销短文: 康宝莱营养奶昔')])"
      ]
     },
     "execution_count": 8,
     "metadata": {},
     "output_type": "execute_result"
    }
   ],
   "execution_count": 8
  },
  {
   "metadata": {
    "ExecuteTime": {
     "end_time": "2024-09-14T12:46:56.692874Z",
     "start_time": "2024-09-14T12:46:43.764241Z"
    }
   },
   "cell_type": "code",
   "source": "chat_model.invoke(prompt.invoke({'topic':'康宝莱营养奶昔'}))",
   "id": "9f3c004fed5785e1",
   "outputs": [
    {
     "data": {
      "text/plain": [
       "AIMessage(content='🌟【轻盈生活，从一杯康宝莱营养奶昔开始！】🌟\\n\\n🍃Hey宝贝们！🍃 想要告别油腻，迎接健康轻盈的生活吗？🌈 小红书独家揭秘——康宝莱营养奶昔，你的理想选择！💪\\n\\n🥤【一杯搞定，营养满分】🥤\\n🌟低热量、高蛋白，一杯康宝莱奶昔，轻松满足每日所需营养！无论是早餐、午餐还是晚餐，只需几分钟，美味又健康！\\n\\n🍓【多种口味，任你挑选】🍓\\n🍦草莓、巧克力、香草...多种口味，满足你的味蕾！每一口都是丝滑享受，告别单调饮食，让健康变得更美味！\\n\\n🌱【科学配方，健康无忧】🌱\\n🔬康宝莱奶昔采用科学配方，添加多种维生素和矿物质，助力你的健康生活！告别不规律的饮食习惯，从一杯奶昔开始！\\n\\n📸【小红书达人推荐】📸\\n👑众多小红书达人亲测好评，真实反馈，效果看得见！加入我们，一起分享健康生活的喜悦吧！\\n\\n🎁【限时优惠，抢购从速】🎁\\n🛍️现在下单，更有超值优惠等你来！健康生活，从一杯康宝莱营养奶昔开始，赶快行动吧！\\n\\n🔗【点击链接，开启轻盈生活】🔗\\n#康宝莱营养奶昔 #健康生活 #轻盈饮食 #小红书推荐\\n\\n💬快来评论区分享你的健康小秘诀吧！🌸 让我们一起变得更美好！🌸', response_metadata={'token_usage': {'completion_tokens': 360, 'prompt_tokens': 22, 'total_tokens': 382}, 'model_name': 'glm-4-plus', 'finish_reason': 'stop'}, id='run-5aa0dc14-393e-4962-b5d9-24709f9fe460-0')"
      ]
     },
     "execution_count": 10,
     "metadata": {},
     "output_type": "execute_result"
    }
   ],
   "execution_count": 10
  },
  {
   "metadata": {
    "ExecuteTime": {
     "end_time": "2024-09-14T12:48:23.884512Z",
     "start_time": "2024-09-14T12:48:09.861128Z"
    }
   },
   "cell_type": "code",
   "source": "output_parser.invoke(chat_model.invoke(prompt.invoke({'topic':'康宝莱营养奶昔'})))",
   "id": "ed6a062ee60374e0",
   "outputs": [
    {
     "data": {
      "text/plain": [
       "'🌟【轻盈生活，从一杯康宝莱营养奶昔开始！】🌟\\n\\n🍃Hey宝贝们！🍃 想要告别“每逢佳节胖三斤”的烦恼吗？🤔 还在为选择健康又美味的早餐而头疼？😫 今天给大家安利一款我最近超爱的神器——康宝莱营养奶昔！🥤\\n\\n🌱【营养满分】🌱\\n每一口康宝莱奶昔都富含蛋白质、维生素和矿物质，满足你一天所需的营养，让你活力满满，轻松应对各种挑战！💪\\n\\n🍓【美味多选】🍓\\n草莓、巧克力、香草...多种口味任你挑选，每一口都是丝滑享受，告别单调，让味蕾跳起舞来！😋\\n\\n🌼【轻松享瘦】🌼\\n低热量、高纤维，一杯奶昔轻松替代一餐，让你在享受美味的同时，还能保持完美身材！👗\\n\\n🌿【便捷生活】🌿\\n只需几分钟，简单搅拌，一杯营养满满的奶昔就搞定啦！忙碌的早晨也能享受健康美味！⏱️\\n\\n🎉【真实反馈】🎉\\n自从喝了康宝莱奶昔，不仅体重下来了，皮肤也变得更加光滑细腻，整个人都轻盈了不少！🌸\\n\\n📣心动不如行动！快来和我一起，开启健康轻盈的生活新方式吧！🌈\\n\\n#康宝莱营养奶昔 #健康生活 #轻松享瘦 #美味早餐 #小红书推荐\\n\\n🛒点击链接/扫二维码，马上抢购你的专属健康奶昔！🛒\\n\\n💬评论区告诉我你最喜欢的口味，抽3位小仙女送出康宝莱奶昔体验装哦！🎁\\n\\n🌟让我们一起，喝出健康，喝出美丽！🌟'"
      ]
     },
     "execution_count": 11,
     "metadata": {},
     "output_type": "execute_result"
    }
   ],
   "execution_count": 11
  }
 ],
 "metadata": {
  "kernelspec": {
   "display_name": "Python 3",
   "language": "python",
   "name": "python3"
  },
  "language_info": {
   "codemirror_mode": {
    "name": "ipython",
    "version": 2
   },
   "file_extension": ".py",
   "mimetype": "text/x-python",
   "name": "python",
   "nbconvert_exporter": "python",
   "pygments_lexer": "ipython2",
   "version": "2.7.6"
  }
 },
 "nbformat": 4,
 "nbformat_minor": 5
}
