{
 "cells": [
  {
   "metadata": {
    "ExecuteTime": {
     "end_time": "2024-09-13T23:21:33.018305Z",
     "start_time": "2024-09-13T23:21:25.877377Z"
    }
   },
   "cell_type": "code",
   "source": [
    "import yaml\n",
    "import os\n",
    "from langchain_community.chat_models import ChatZhipuAI\n",
    "from langchain_core.messages import AIMessage, HumanMessage, SystemMessage\n",
    "\n",
    "with open('utils/config.yml', 'r') as stream:\n",
    "    zhipuai_api_key = yaml.safe_load(stream)['api_key']\n",
    "\n",
    "os.environ['ZHIPUAI_API_KEY'] = zhipuai_api_key\n",
    "\n",
    "chat_model = ChatZhipuAI(\n",
    "    model='glm-4-plus',\n",
    "    temperature=0,\n",
    ")\n",
    "\n",
    "messages = [\n",
    "    AIMessage(content='你好我是你的小康助手'),\n",
    "    SystemMessage(content='当用户输入城市，你会返回该城市的平均工资'),\n",
    "    HumanMessage(content='大连'),\n",
    "]\n",
    "\n",
    "response = chat_model.invoke(messages)\n",
    "print(response.content)"
   ],
   "id": "771d17bbce673aa3",
   "outputs": [
    {
     "name": "stdout",
     "output_type": "stream",
     "text": [
      "截至我知识更新的时间点（2023年），我无法提供实时数据。不过，我可以给你一个大致的概念。\n",
      "\n",
      "大连作为中国东北的一个重要城市，其平均工资水平受多种因素影响，包括行业、职位、工作经验等。根据过去几年的数据，大连的平均工资通常在全国平均工资水平附近或略高一些。\n",
      "\n",
      "例如，根据中国国家统计局发布的数据，2021年全国城镇非私营单位就业人员年平均工资约为10.68万元人民币。而大连作为一个经济较为发达的城市，其平均工资可能会略高于这个数字。\n",
      "\n",
      "为了获得更准确的数据，你可以参考以下几个途径：\n",
      "\n",
      "1. 大连市统计局或人力资源和社会保障局发布的最新统计数据。\n",
      "2. 招聘网站（如智联招聘、前程无忧等）上发布的大连地区职位平均薪资信息。\n",
      "3. 行业协会或专业调研机构发布的薪资报告。\n",
      "\n",
      "请注意，这些数据可能会随时间而变化，建议你查找最新的官方或权威数据以获得准确信息。\n"
     ]
    }
   ],
   "execution_count": 15
  }
 ],
 "metadata": {
  "kernelspec": {
   "display_name": "Python 3",
   "language": "python",
   "name": "python3"
  },
  "language_info": {
   "codemirror_mode": {
    "name": "ipython",
    "version": 2
   },
   "file_extension": ".py",
   "mimetype": "text/x-python",
   "name": "python",
   "nbconvert_exporter": "python",
   "pygments_lexer": "ipython2",
   "version": "2.7.6"
  }
 },
 "nbformat": 4,
 "nbformat_minor": 5
}
