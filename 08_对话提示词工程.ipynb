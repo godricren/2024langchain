{
 "cells": [
  {
   "metadata": {},
   "cell_type": "markdown",
   "source": [
    "# How to use few shot examples in chat models\n",
    "\n",
    "This guide covers how to prompt a chat model with example inputs and outputs. Providing the model with a few such examples is called few-shotting, and is a simple yet powerful way to guide generation and in some cases drastically improve model performance.\n",
    "\n",
    "There does not appear to be solid consensus on how best to do few-shot prompting, and the optimal prompt compilation will likely vary by model. Because of this, we provide few-shot prompt templates like the FewShotChatMessagePromptTemplate as a flexible starting point, and you can modify or replace them as you see fit.\n",
    "\n",
    "The goal of few-shot prompt templates are to dynamically select examples based  on an input, and then format the examples in a final prompt to provide for the model.\n",
    "\n",
    "**Note:** The following code examples are for chat models only, since `FewShotChatMessagePromptTemplates` are designed to output formatted chat message rather than pure strings. For similar few-shot prompt examples for pure string templates compatible with completion models(LLMs), see the few-shot prompt templates guide."
   ],
   "id": "395a283b0258949"
  },
  {
   "metadata": {},
   "cell_type": "markdown",
   "source": [
    "## Fixed Examples\n",
    "The most basic(and common) few-shot prompting technique is to use fixed prompt examples. This way you can select a chain, evaluate it, and avoid worrying about additional moving parts in production.\n",
    "\n",
    "The basic components of the template are:\n",
    "* `examples`: A list of dictionary examples to include the final prompt.\n",
    "* `example_prompt`: converts each example into 1 or more messages through its `format_messages` method. A common example would be to convert each example into one human message and one AI message response, or a human message followed by a function call message.\n",
    "\n",
    "Below is a simple demonstration. First, define the examples you'd like to include. Let's give the LLM an unfamiliar mathematical operator, denoted by the \"$\" :"
   ],
   "id": "5f9edc296fff2648"
  },
  {
   "cell_type": "code",
   "id": "initial_id",
   "metadata": {
    "collapsed": true,
    "ExecuteTime": {
     "end_time": "2024-09-15T13:59:50.832676Z",
     "start_time": "2024-09-15T13:59:41.187021Z"
    }
   },
   "source": [
    "import os, yaml\n",
    "from langchain_community.chat_models.zhipuai import ChatZhipuAI\n",
    "\n",
    "with open('utils/config.yml', 'r') as stream:\n",
    "    zhipuai_api_key = yaml.safe_load(stream)['api_key']\n",
    "os.environ['ZHIPUAI_API_KEY'] = zhipuai_api_key\n",
    "\n",
    "model = ChatZhipuAI(\n",
    "    model='glm-4-plus',\n",
    "    temperature=0.0,\n",
    ")\n",
    "\n",
    "model.invoke('What is 2 $ 2?')\n"
   ],
   "outputs": [
    {
     "data": {
      "text/plain": [
       "AIMessage(content='The expression \"2 $ 2\" is not a standard mathematical operation. The dollar sign ($) is typically used in programming languages and certain mathematical contexts, but its meaning can vary depending on the context. Here are a few possibilities:\\n\\n1. **Programming Languages**: In some programming languages, the dollar sign is used as a part of variable names (e.g., in PHP or JavaScript). However, \"2 $ 2\" would not be a valid expression in most languages.\\n\\n2. **Regular Expressions**: In regular expressions, the dollar sign is used to denote the end of a string. But \"2 $ 2\" would not make sense in this context either.\\n\\n3. **Custom Operators**: In some custom or domain-specific languages, the dollar sign might be defined as a specific operator. Without knowing the context, it\\'s impossible to determine what \"2 $ 2\" would evaluate to.\\n\\n4. **Financial Context**: If this is in a financial context, it might represent some kind of monetary operation, but it\\'s not standard.\\n\\nIf you have a specific context or domain in mind, please provide more details so I can give a more accurate interpretation. Otherwise, \"2 $ 2\" is not a recognized mathematical expression.', response_metadata={'token_usage': {'completion_tokens': 251, 'prompt_tokens': 13, 'total_tokens': 264}, 'model_name': 'glm-4-plus', 'finish_reason': 'stop'}, id='run-af08bf97-9b8f-4aa8-99c8-1c8938289f42-0')"
      ]
     },
     "execution_count": 1,
     "metadata": {},
     "output_type": "execute_result"
    }
   ],
   "execution_count": 1
  },
  {
   "metadata": {
    "ExecuteTime": {
     "end_time": "2024-09-15T14:04:34.945783Z",
     "start_time": "2024-09-15T14:04:34.941565Z"
    }
   },
   "cell_type": "code",
   "source": [
    "from langchain_core.prompts import ChatPromptTemplate, FewShotChatMessagePromptTemplate\n",
    "\n",
    "examples = [\n",
    "    {'input': '2 $ 2', 'output': '4'},\n",
    "    {'input': '2 $ 3', 'output': '5'},\n",
    "]\n",
    "\n",
    "example_prompt = ChatPromptTemplate.from_messages(\n",
    "    {\n",
    "        ('human', '{input}'),\n",
    "        ('ai','{output}')\n",
    "    }\n",
    ")\n",
    "\n",
    "few_shot_prompt = FewShotChatMessagePromptTemplate(\n",
    "    example_prompt=example_prompt,\n",
    "    examples=examples,\n",
    ")\n",
    "\n",
    "print(few_shot_prompt.invoke({}).to_messages())"
   ],
   "id": "402222621ae2b74d",
   "outputs": [
    {
     "name": "stdout",
     "output_type": "stream",
     "text": [
      "[HumanMessage(content='2 $ 2'), AIMessage(content='4'), HumanMessage(content='2 $ 3'), AIMessage(content='5')]\n"
     ]
    }
   ],
   "execution_count": 4
  },
  {
   "metadata": {
    "ExecuteTime": {
     "end_time": "2024-09-15T14:06:16.447916Z",
     "start_time": "2024-09-15T14:06:16.445260Z"
    }
   },
   "cell_type": "code",
   "source": [
    "final_prompt = ChatPromptTemplate.from_messages(\n",
    "    [\n",
    "        ('system','you are a wondrous wizard of math.'),\n",
    "        few_shot_prompt,\n",
    "        ('human', '{input}')\n",
    "    ]\n",
    ")\n"
   ],
   "id": "5bffff5936904aac",
   "outputs": [],
   "execution_count": 7
  },
  {
   "metadata": {
    "ExecuteTime": {
     "end_time": "2024-09-15T14:07:52.515628Z",
     "start_time": "2024-09-15T14:07:46.897962Z"
    }
   },
   "cell_type": "code",
   "source": [
    "chain = final_prompt | model\n",
    "\n",
    "chain.invoke('what is 2 $ 9 ?')"
   ],
   "id": "8344f11927b6d6bc",
   "outputs": [
    {
     "data": {
      "text/plain": [
       "AIMessage(content=\"It seems like you're using a custom operation denoted by the symbol `$`. Based on the previous examples:\\n\\n- \\\\( 2 $ 2 = 4 \\\\)\\n- \\\\( 2 $ 3 = 5 \\\\)\\n\\nWe can infer a pattern. In both cases, the result is obtained by adding 2 to the second number:\\n\\n- \\\\( 2 $ 2 = 2 + 2 = 4 \\\\)\\n- \\\\( 2 $ 3 = 2 + 3 = 5 \\\\)\\n\\nFollowing this pattern, for \\\\( 2 $ 9 \\\\):\\n\\n\\\\[ 2 $ 9 = 2 + 9 = 11 \\\\]\\n\\nSo, \\\\( 2 $ 9 \\\\) would be 11.\", response_metadata={'token_usage': {'completion_tokens': 152, 'prompt_tokens': 42, 'total_tokens': 194}, 'model_name': 'glm-4-plus', 'finish_reason': 'stop'}, id='run-c7953465-e652-4102-a3e1-9f0618c6d843-0')"
      ]
     },
     "execution_count": 10,
     "metadata": {},
     "output_type": "execute_result"
    }
   ],
   "execution_count": 10
  }
 ],
 "metadata": {
  "kernelspec": {
   "display_name": "Python 3",
   "language": "python",
   "name": "python3"
  },
  "language_info": {
   "codemirror_mode": {
    "name": "ipython",
    "version": 2
   },
   "file_extension": ".py",
   "mimetype": "text/x-python",
   "name": "python",
   "nbconvert_exporter": "python",
   "pygments_lexer": "ipython2",
   "version": "2.7.6"
  }
 },
 "nbformat": 4,
 "nbformat_minor": 5
}
