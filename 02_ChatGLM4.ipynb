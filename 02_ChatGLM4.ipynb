{
 "cells": [
  {
   "metadata": {},
   "cell_type": "markdown",
   "source": "# 自己封装大模型对象",
   "id": "769c73bb693ed3aa"
  },
  {
   "metadata": {
    "ExecuteTime": {
     "end_time": "2024-09-15T02:26:38.611428Z",
     "start_time": "2024-09-15T02:26:38.598292Z"
    }
   },
   "cell_type": "code",
   "source": [
    "import yaml\n",
    "\n",
    "with open('utils/config.yml', 'r') as ymlfile:\n",
    "    zhipuai_api_key = yaml.safe_load(ymlfile)['api_key']"
   ],
   "id": "b2f73c2178ec7596",
   "outputs": [],
   "execution_count": 1
  },
  {
   "cell_type": "code",
   "id": "initial_id",
   "metadata": {
    "collapsed": true,
    "ExecuteTime": {
     "end_time": "2024-09-15T02:50:08.502593Z",
     "start_time": "2024-09-15T02:50:08.494069Z"
    }
   },
   "source": [
    "from langchain.llms.base import LLM\n",
    "from zhipuai import ZhipuAI\n",
    "from langchain_core.messages.ai import AIMessage\n",
    "\n",
    "class ChatGLM4(LLM):\n",
    "    history = []\n",
    "    client:object = None\n",
    "    \n",
    "    def __init__(self):\n",
    "        super().__init__()\n",
    "        self.client = ZhipuAI(api_key=zhipuai_api_key)\n",
    "        \n",
    "    @property\n",
    "    def _llm_type(self):\n",
    "        return 'ChatGLM4'\n",
    "    \n",
    "    def invoke(self,prompt,history=[]):\n",
    "        if history is not None:\n",
    "            history = []\n",
    "        history.append(\n",
    "            {\n",
    "                'role':'user',\n",
    "                'content':prompt,\n",
    "            }\n",
    "        )\n",
    "        response = self.client.chat.completions.create(\n",
    "            model='glm-4',\n",
    "            messages=history,\n",
    "        )\n",
    "        result = response.choices[0].message.content\n",
    "        return AIMessage(content=result)\n",
    "    \n",
    "    def _call(self,prompt,history=[]):\n",
    "        return self.invoke(prompt,history)\n",
    "    \n",
    "    def stream(self,prompt,history=[]):\n",
    "        if history is not None:\n",
    "            history = []\n",
    "        history.append(\n",
    "            {\n",
    "                'role':'user',\n",
    "                'content': prompt,\n",
    "             }\n",
    "        )\n",
    "        response = self.client.chat.completions.create(\n",
    "            model='glm-4',\n",
    "            messages=history,\n",
    "            stream=True,\n",
    "        )\n",
    "        for chunk in response:\n",
    "            yield chunk.choices[0].delta.content\n",
    "        \n"
   ],
   "outputs": [],
   "execution_count": 14
  },
  {
   "metadata": {
    "ExecuteTime": {
     "end_time": "2024-09-15T02:50:10.701972Z",
     "start_time": "2024-09-15T02:50:10.673621Z"
    }
   },
   "cell_type": "code",
   "source": "chat_model = ChatGLM4()",
   "id": "dec5effa86f93eb2",
   "outputs": [],
   "execution_count": 15
  },
  {
   "metadata": {
    "ExecuteTime": {
     "end_time": "2024-09-15T02:30:56.474146Z",
     "start_time": "2024-09-15T02:30:53.045045Z"
    }
   },
   "cell_type": "code",
   "source": "chat_model.invoke('讲个笑话')",
   "id": "796dac63a7b53ec",
   "outputs": [
    {
     "data": {
      "text/plain": [
       "AIMessage(content='好的，这里有一个简单的笑话：\\n\\n有一天，小明问妈妈：“妈妈，为什么你的眼睛下面有黑色的东西？”\\n妈妈回答：“那是因为妈妈小时候不听话，被爸爸打的。”\\n小明又问：“那爸爸为什么没有黑眼圈呢？”\\n妈妈笑着说：“那是因为爸爸小时候听话，没有被爷爷打。”\\n\\n这个笑话是典型的中国式幽默，希望它能带给您一点轻松和快乐。不过，幽默有各种形式，如果您喜欢其他类型的笑话，也请告诉我。')"
      ]
     },
     "execution_count": 12,
     "metadata": {},
     "output_type": "execute_result"
    }
   ],
   "execution_count": 12
  },
  {
   "metadata": {
    "ExecuteTime": {
     "end_time": "2024-09-15T02:51:22.594193Z",
     "start_time": "2024-09-15T02:51:10.952687Z"
    }
   },
   "cell_type": "code",
   "source": [
    "for deltaStr in chat_model.stream('如何鼓励自己健身'):\n",
    "    print(deltaStr,end='')"
   ],
   "id": "c510d68ee3da8b33",
   "outputs": [
    {
     "name": "stdout",
     "output_type": "stream",
     "text": [
      "鼓励自己健身可以通过以下几个方面来进行：\n",
      "\n",
      "1. **设定明确目标**：设立短期和长期的健身目标，这些目标要具体、可衡量、可实现、相关性强、有时间限制（SMART原则）。比如“一个月内减掉2公斤体重”或“每周至少健身3次”。\n",
      "\n",
      "2. **制定计划**：根据自己的时间安排和生活习惯制定一个合理的健身计划，并尽量将其融入日常生活中。\n",
      "\n",
      "3. **寻找健身伙伴**：找一个或几个志同道合的健身伙伴，相互鼓励和支持，这样可以增加健身的动力。\n",
      "\n",
      "4. **奖励机制**：当达到某个健身目标时，给自己设置一些奖励，比如购买一件新的运动装备或享受一个喜欢的美食。\n",
      "\n",
      "5. **记录进度**：记录健身的进度，无论是通过日记、健身应用还是其他方式。看到自己的进步会非常有成就感。\n",
      "\n",
      "6. **选择喜欢的运动**：选择自己感兴趣的运动项目，这样更容易坚持下去。\n",
      "\n",
      "7. **参加挑战或比赛**：参加线上或线下的健身挑战或比赛，这种竞争机制可以激发健身的积极性。\n",
      "\n",
      "8. **了解健身的好处**：了解健身对身体和心理健康的积极影响，比如改善心肺功能、提高免疫力、减轻压力等。\n",
      "\n",
      "9. **保持积极心态**：保持积极乐观的心态，即使短期内看不到明显效果，也要相信长期坚持的好处。\n",
      "\n",
      "10. **合理饮食**：配合合理的饮食，营养均衡，帮助身体恢复和提升健身效果。\n",
      "\n",
      "11. **分享成就**：在社交网络上分享自己的健身成果，获得朋友的点赞和评论也是一种很好的鼓励。\n",
      "\n",
      "12. **避免过度训练**：合理安排休息，避免过度训练导致的身体疲劳或伤害。\n",
      "\n",
      "通过上述方法，可以有效地鼓励自己坚持健身，形成健康的生活习惯。记住，健身是一个长期的过程，需要持之以恒的态度和适度的自我激励。"
     ]
    }
   ],
   "execution_count": 17
  }
 ],
 "metadata": {
  "kernelspec": {
   "display_name": "Python 3",
   "language": "python",
   "name": "python3"
  },
  "language_info": {
   "codemirror_mode": {
    "name": "ipython",
    "version": 2
   },
   "file_extension": ".py",
   "mimetype": "text/x-python",
   "name": "python",
   "nbconvert_exporter": "python",
   "pygments_lexer": "ipython2",
   "version": "2.7.6"
  }
 },
 "nbformat": 4,
 "nbformat_minor": 5
}
