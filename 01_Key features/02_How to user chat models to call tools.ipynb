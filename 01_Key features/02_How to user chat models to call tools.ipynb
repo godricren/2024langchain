{
 "cells": [
  {
   "metadata": {},
   "cell_type": "markdown",
   "source": [
    "# How to use chat models to call tools\n",
    "\n",
    "Tool calling allows a chat model to respond to a given prompt by \"calling a tool\".\n",
    "\n",
    "Remember, while the name \"tool calling\" implies that the model is directly performing some action, this is actually not the case! The model only generates the arguments to a tool, and actually running the tool(or not) is up to the user.\n",
    "\n",
    "Tool calling is a general technique that generates structured output from a model, and you can use it even when you don't intend to invoke any tools. An example use-case of that is extraction from unstructured text.\n",
    "\n",
    "![img1](../asset/tool_call.png)\n",
    "\n",
    "LangChain implements standard interface for defining tools, passing them to LLMs, and representing tool calls. This guide will cover how to bind tools to an LLM, then invoke the LLM to generate these arguments.\n",
    "\n",
    "## Defining tool schemas\n",
    "\n",
    "For a model to be able to call tools, we need to pass in tool schemas that describe what the tool does and what it's arguments are. Chat models that support tool calling features implement a `.bind_tools()` method for passing tool schemas to the model. Tool schemas can be passed in as Python functions(with typehints and docstrings), Pydantic models, TypeDict classes, or LangChain Tool objects. Subsequent invocations of the model will pass in these tool schemas along with the prompt.\n",
    "\n",
    "\n",
    "\n",
    "## Python functions\n",
    "\n",
    "Our tool schemas can be Python functions:"
   ],
   "id": "2217cfa72fc3367f"
  },
  {
   "cell_type": "code",
   "execution_count": null,
   "id": "initial_id",
   "metadata": {
    "collapsed": true
   },
   "outputs": [],
   "source": [
    "# The function name, type hints, and docstring are all part of the tool\n",
    "# schema that's passed to the model. Defining good, descriptive schemas\n",
    "# is an extension of prompt engineering and is an important part of \n",
    "# getting models to perform well.\n",
    "\n",
    "def add(a: int, b: int) -> int:\n",
    "    \"\"\" Add two integers.\n",
    "    \n",
    "    Args:\n",
    "        a: First integer.\n",
    "        b: Second integer.\n",
    "    \"\"\"\n",
    "    return a + b\n",
    "\n",
    "def multiply(a: int, b: int) -> int:\n",
    "    \"\"\"Multiply two integers.\n",
    "    \n",
    "    Args:\n",
    "        a: First integer.\n",
    "        b: Second integer. \n",
    "    \"\"\"\n",
    "    return a * b"
   ]
  },
  {
   "metadata": {},
   "cell_type": "markdown",
   "source": [
    "## LangChain Tool\n",
    "\n",
    "LangChain also implements a `@tool` decorator that allows for further control of the tool schema, such as tool names and argument descriptions.\n",
    "\n",
    "## Pydantic class\n",
    "\n",
    "You can equivalently define the schemas without the accompanying functions using Pydantic.\n",
    "\n",
    "Note that all fields are `required` unless provided a default value.\n",
    "\n",
    "\n",
    "\n"
   ],
   "id": "4393b69871be2620"
  },
  {
   "metadata": {},
   "cell_type": "code",
   "outputs": [],
   "execution_count": null,
   "source": [
    "from pydantic import BaseModel, Field\n",
    "\n",
    "class add(BaseModel):\n",
    "    \"\"\"Add two integers.\"\"\""
   ],
   "id": "273e5af0cea579d1"
  }
 ],
 "metadata": {
  "kernelspec": {
   "display_name": "Python 3",
   "language": "python",
   "name": "python3"
  },
  "language_info": {
   "codemirror_mode": {
    "name": "ipython",
    "version": 2
   },
   "file_extension": ".py",
   "mimetype": "text/x-python",
   "name": "python",
   "nbconvert_exporter": "python",
   "pygments_lexer": "ipython2",
   "version": "2.7.6"
  }
 },
 "nbformat": 4,
 "nbformat_minor": 5
}
